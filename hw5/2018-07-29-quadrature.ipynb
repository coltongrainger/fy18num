{
 "cells": [
  {
   "cell_type": "markdown",
   "metadata": {},
   "source": [
    "### Prob 1"
   ]
  },
  {
   "cell_type": "code",
   "execution_count": null,
   "metadata": {},
   "outputs": [],
   "source": [
    "import sympy as sym\n",
    "\n",
    "def natcubic_hardcoded(x):\n",
    "    h = 0.5; vecx = [0.,0.5,0.]\n",
    "    a = [0,1,0]\n",
    "    c = [0,-3/(2*h**2),0]\n",
    "    d = [-1/(2*h**3), 1/(2*h**3)]\n",
    "    b = [3/(2*h), 0]\n",
    "    terms = lambda x,i: a[i]+b[i]*(x-vecx[i])\\\n",
    "                         +c[i]*(x-vecx[i])**2\\\n",
    "                         +d[i]*(x-vecx[i])**3\n",
    "    spline = Piecewise((terms(x,0), 0<=x<0.5),(terms(x,1),0.5<=x<=1))\n",
    "    return spline\n",
    "\n",
    "def natcubic_hardcoded_terms(x,i):\n",
    "    h = 0.5; vecx = [0.,0.5,0.]\n",
    "    a = [0,1,0]\n",
    "    c = [0,-3/(2*h**2),0]\n",
    "    d = [-1/(2*h**3), 1/(2*h**3)]\n",
    "    b = [3/(2*h), 0]\n",
    "    terms = lambda x,i: a[i]+b[i]*(x-vecx[i])\\\n",
    "                         +c[i]*(x-vecx[i])**2\\\n",
    "                         +d[i]*(x-vecx[i])**3\n",
    "    return terms(x,i)"
   ]
  },
  {
   "cell_type": "code",
   "execution_count": null,
   "metadata": {},
   "outputs": [],
   "source": [
    "s0 = natcubic_hardcoded_terms(x,0)\n",
    "s1 = natcubic_hardcoded_terms(x,1)\n",
    "ds0 = sym.diff(s0,x)\n",
    "ds1 = sym.diff(s1,x)\n",
    "d2s0 = sym.diff(s0,x,2)\n",
    "d2s1 = sym.diff(s1,x,2)\n",
    "\n",
    "print(s0.subs(x,0.5) == s1.subs(x,0.5))\n",
    "print(ds0.subs(x,0.5) == ds1.subs(x,0.5))\n",
    "print(d2s0.subs(x,0.5) == d2s1.subs(x,0.5))\n",
    "print(d2s0.subs(x,0),d2s1.subs(x,1))"
   ]
  },
  {
   "cell_type": "markdown",
   "metadata": {},
   "source": [
    "### Prob 2"
   ]
  },
  {
   "cell_type": "code",
   "execution_count": null,
   "metadata": {},
   "outputs": [],
   "source": [
    "x=np.array([0.0, 0.5, 1.0, 1.5, 1.7, 1.85, 2.0, 2.5, 3.0, 3.5, 4.0, 4.5, 5.0, 5.5, 5.75, 6.0]\n",
    "y=np.array([0.0, 0.9, 1.2, 1.35, 1.4, 1.7, 1.95, 2.3, 2.35, 2.4, 2.35, 2.25, 1.8, 1.0, 0.7, 0.0]\n",
    "v=np.array([0.0, 0.5, 1.0, 1.25, 1.5, 1.75, 2.0, 2.25, 2.5, 2.75, 3.0, 3.25, 3.5, 3.75, 4.0, 4.25, 4.5, 4.75, 5.0, 5.25, 5.5, 5.75, 6.0]\n",
    "w=np.array([0.0, 0.0, 0.0, 0.0, 0.0, 0.45, 0.6, 0.45, 0.0, 0.0, 0.0, 0.0, 0.0, 0.0, 0.0, 0.45, 0.6, 0.45, 0.0, 0.0, 0.0, 0.0, 0.0]"
   ]
  }
 ],
 "metadata": {},
 "nbformat": 4,
 "nbformat_minor": 2
}
