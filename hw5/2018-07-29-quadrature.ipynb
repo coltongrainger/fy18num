{
 "cells": [
  {
   "cell_type": "markdown",
   "metadata": {},
   "source": [
    "## Cubic splines by hand"
   ]
  },
  {
   "cell_type": "code",
   "execution_count": 1,
   "metadata": {
    "attributes": {
     "classes": [],
     "id": "",
     "n": "6"
    }
   },
   "outputs": [],
   "source": [
    "import sympy as sym\n",
    "from sympy.functions.elementary.piecewise import Piecewise\n",
    "\n",
    "def natcubic_hardcoded(x):\n",
    "    h = 0.5; vecx = [0.,0.5,0.]\n",
    "    a = [0,1,0]; c = [0,-3/(2*h**2),0]\n",
    "    d = [-1/(2*h**3), 1/(2*h**3)]; b = [3/(2*h), 0]\n",
    "    terms = lambda x,i: a[i]+b[i]*(x-vecx[i])\\\n",
    "                        +c[i]*(x-vecx[i])**2\\\n",
    "                        +d[i]*(x-vecx[i])**3\n",
    "    spline = Piecewise((terms(x,0), 0<=x<0.5),\\\n",
    "                           (terms(x,1),0.5<=x<=1))\n",
    "    return spline\n",
    "\n",
    "def natcubic_hardcoded_terms(x,i):\n",
    "    h = 0.5; vecx = [0.,0.5,0.]\n",
    "    a = [0,1,0]; c = [0,-3/(2*h**2),0]\n",
    "    d = [-1/(2*h**3), 1/(2*h**3)]; b = [3/(2*h), 0]\n",
    "    terms = lambda x,i: a[i]+b[i]*(x-vecx[i])\\\n",
    "                        +c[i]*(x-vecx[i])**2\\\n",
    "                        +d[i]*(x-vecx[i])**3\n",
    "    return terms(x,i)"
   ]
  },
  {
   "cell_type": "code",
   "execution_count": 2,
   "metadata": {
    "attributes": {
     "classes": [],
     "id": "",
     "n": "7"
    }
   },
   "outputs": [
    {
     "data": {
      "text/plain": [
       "<matplotlib.figure.Figure object at 0x7f2bbfe718d0>"
      ]
     },
     "metadata": {},
     "output_type": "display_data"
    }
   ],
   "source": [
    "import numpy as np\n",
    "import matplotlib.pyplot as plt\n",
    "stip = np.linspace(0,1)\n",
    "plt.plot(stip,[natcubic_hardcoded(t) for t in stip])\n",
    "plt.title(\"Two basic cubic splines\")\n",
    "plt.show()"
   ]
  },
  {
   "cell_type": "code",
   "execution_count": 3,
   "metadata": {
    "attributes": {
     "classes": [],
     "id": "",
     "n": "8"
    }
   },
   "outputs": [
    {
     "ename": "TypeError",
     "evalue": "not able to determine a substitution from x",
     "output_type": "error",
     "traceback": [
      "\u001b[0;31m---------------------------------------------------------------------------\u001b[0m",
      "\u001b[0;31mTypeError\u001b[0m                                 Traceback (most recent call last)",
      "\u001b[0;32m<ipython-input-3-5212ec2f219b>\u001b[0m in \u001b[0;36m<module>\u001b[0;34m()\u001b[0m\n\u001b[1;32m      8\u001b[0m \u001b[0;34m\u001b[0m\u001b[0m\n\u001b[1;32m      9\u001b[0m \u001b[0;31m# test for continuity of s, s', and s''\u001b[0m\u001b[0;34m\u001b[0m\u001b[0;34m\u001b[0m\u001b[0m\n\u001b[0;32m---> 10\u001b[0;31m \u001b[0;32mprint\u001b[0m\u001b[0;34m(\u001b[0m\u001b[0ms0\u001b[0m\u001b[0;34m.\u001b[0m\u001b[0msubs\u001b[0m\u001b[0;34m(\u001b[0m\u001b[0mx\u001b[0m\u001b[0;34m,\u001b[0m\u001b[0mRealNumber\u001b[0m\u001b[0;34m(\u001b[0m\u001b[0;34m'0.5'\u001b[0m\u001b[0;34m)\u001b[0m\u001b[0;34m)\u001b[0m \u001b[0;34m==\u001b[0m \u001b[0ms1\u001b[0m\u001b[0;34m.\u001b[0m\u001b[0msubs\u001b[0m\u001b[0;34m(\u001b[0m\u001b[0mx\u001b[0m\u001b[0;34m,\u001b[0m\u001b[0mRealNumber\u001b[0m\u001b[0;34m(\u001b[0m\u001b[0;34m'0.5'\u001b[0m\u001b[0;34m)\u001b[0m\u001b[0;34m)\u001b[0m\u001b[0;34m)\u001b[0m\u001b[0;34m\u001b[0m\u001b[0m\n\u001b[0m\u001b[1;32m     11\u001b[0m \u001b[0;32mprint\u001b[0m\u001b[0;34m(\u001b[0m\u001b[0mds0\u001b[0m\u001b[0;34m.\u001b[0m\u001b[0msubs\u001b[0m\u001b[0;34m(\u001b[0m\u001b[0mx\u001b[0m\u001b[0;34m,\u001b[0m\u001b[0mRealNumber\u001b[0m\u001b[0;34m(\u001b[0m\u001b[0;34m'0.5'\u001b[0m\u001b[0;34m)\u001b[0m\u001b[0;34m)\u001b[0m \u001b[0;34m==\u001b[0m \u001b[0mds1\u001b[0m\u001b[0;34m.\u001b[0m\u001b[0msubs\u001b[0m\u001b[0;34m(\u001b[0m\u001b[0mx\u001b[0m\u001b[0;34m,\u001b[0m\u001b[0mRealNumber\u001b[0m\u001b[0;34m(\u001b[0m\u001b[0;34m'0.5'\u001b[0m\u001b[0;34m)\u001b[0m\u001b[0;34m)\u001b[0m\u001b[0;34m)\u001b[0m\u001b[0;34m\u001b[0m\u001b[0m\n\u001b[1;32m     12\u001b[0m \u001b[0;32mprint\u001b[0m\u001b[0;34m(\u001b[0m\u001b[0md2s0\u001b[0m\u001b[0;34m.\u001b[0m\u001b[0msubs\u001b[0m\u001b[0;34m(\u001b[0m\u001b[0mx\u001b[0m\u001b[0;34m,\u001b[0m\u001b[0mRealNumber\u001b[0m\u001b[0;34m(\u001b[0m\u001b[0;34m'0.5'\u001b[0m\u001b[0;34m)\u001b[0m\u001b[0;34m)\u001b[0m \u001b[0;34m==\u001b[0m \u001b[0md2s1\u001b[0m\u001b[0;34m.\u001b[0m\u001b[0msubs\u001b[0m\u001b[0;34m(\u001b[0m\u001b[0mx\u001b[0m\u001b[0;34m,\u001b[0m\u001b[0mRealNumber\u001b[0m\u001b[0;34m(\u001b[0m\u001b[0;34m'0.5'\u001b[0m\u001b[0;34m)\u001b[0m\u001b[0;34m)\u001b[0m\u001b[0;34m)\u001b[0m\u001b[0;34m\u001b[0m\u001b[0m\n",
      "\u001b[0;32m/home/colton/.local/sage/local/lib/python2.7/site-packages/sage/symbolic/expression.pyx\u001b[0m in \u001b[0;36msage.symbolic.expression.Expression.substitute (build/cythonized/sage/symbolic/expression.cpp:32277)\u001b[0;34m()\u001b[0m\n\u001b[1;32m   5231\u001b[0m \u001b[0;34m\u001b[0m\u001b[0m\n\u001b[1;32m   5232\u001b[0m         \u001b[0;32mfor\u001b[0m \u001b[0ma\u001b[0m \u001b[0;32min\u001b[0m \u001b[0margs\u001b[0m\u001b[0;34m:\u001b[0m\u001b[0;34m\u001b[0m\u001b[0m\n\u001b[0;32m-> 5233\u001b[0;31m             \u001b[0m_dict_update_check_duplicate\u001b[0m\u001b[0;34m(\u001b[0m\u001b[0msdict\u001b[0m\u001b[0;34m,\u001b[0m \u001b[0m_subs_make_dict\u001b[0m\u001b[0;34m(\u001b[0m\u001b[0ma\u001b[0m\u001b[0;34m)\u001b[0m\u001b[0;34m)\u001b[0m\u001b[0;34m\u001b[0m\u001b[0m\n\u001b[0m\u001b[1;32m   5234\u001b[0m \u001b[0;34m\u001b[0m\u001b[0m\n\u001b[1;32m   5235\u001b[0m         \u001b[0;32mif\u001b[0m \u001b[0mkwds\u001b[0m\u001b[0;34m:\u001b[0m\u001b[0;34m\u001b[0m\u001b[0m\n",
      "\u001b[0;32m/home/colton/.local/sage/local/lib/python2.7/site-packages/sage/symbolic/expression.pyx\u001b[0m in \u001b[0;36msage.symbolic.expression._subs_make_dict (build/cythonized/sage/symbolic/expression.cpp:5840)\u001b[0;34m()\u001b[0m\n\u001b[1;32m    354\u001b[0m     \u001b[0;32melse\u001b[0m\u001b[0;34m:\u001b[0m\u001b[0;34m\u001b[0m\u001b[0m\n\u001b[1;32m    355\u001b[0m         \u001b[0mmsg\u001b[0m \u001b[0;34m=\u001b[0m \u001b[0;34m\"not able to determine a substitution from {}\"\u001b[0m\u001b[0;34m\u001b[0m\u001b[0m\n\u001b[0;32m--> 356\u001b[0;31m         \u001b[0;32mraise\u001b[0m \u001b[0mTypeError\u001b[0m\u001b[0;34m(\u001b[0m\u001b[0mmsg\u001b[0m\u001b[0;34m.\u001b[0m\u001b[0mformat\u001b[0m\u001b[0;34m(\u001b[0m\u001b[0ms\u001b[0m\u001b[0;34m)\u001b[0m\u001b[0;34m)\u001b[0m\u001b[0;34m\u001b[0m\u001b[0m\n\u001b[0m\u001b[1;32m    357\u001b[0m \u001b[0;34m\u001b[0m\u001b[0m\n\u001b[1;32m    358\u001b[0m \u001b[0;34m\u001b[0m\u001b[0m\n",
      "\u001b[0;31mTypeError\u001b[0m: not able to determine a substitution from x"
     ]
    }
   ],
   "source": [
    "x = sym.Symbol('x')\n",
    "s0 = natcubic_hardcoded_terms(x,0)\n",
    "s1 = natcubic_hardcoded_terms(x,1)\n",
    "ds0 = sym.diff(s0,x)\n",
    "ds1 = sym.diff(s1,x)\n",
    "d2s0 = sym.diff(s0,x,2)\n",
    "d2s1 = sym.diff(s1,x,2)\n",
    "\n",
    "# test for continuity of s, s', and s''\n",
    "print(s0.subs(x,0.5) == s1.subs(x,0.5))\n",
    "print(ds0.subs(x,0.5) == ds1.subs(x,0.5))\n",
    "print(d2s0.subs(x,0.5) == d2s1.subs(x,0.5))\n",
    "\n",
    "# test boundary conditions\n",
    "print(d2s0.subs(x,0)==0, d2s1.subs(x,1)==0)"
   ]
  },
  {
   "cell_type": "markdown",
   "metadata": {},
   "source": [
    "## Buggy interpolation"
   ]
  },
  {
   "cell_type": "code",
   "execution_count": null,
   "metadata": {
    "attributes": {
     "classes": [],
     "id": "",
     "n": "9"
    }
   },
   "outputs": [],
   "source": [
    "import numpy as np\n",
    "\n",
    "x=np.array([0.0, 0.5, 1.0, 1.5, 1.7, 1.85, 2.0, 2.5, 3.0, 3.5, 4.0, 4.5, 5.0, 5.5, 5.75, 6.0])\n",
    "y=np.array([0.0, 0.9, 1.2, 1.35, 1.4, 1.7, 1.95, 2.3, 2.35, 2.4, 2.35, 2.25, 1.8, 1.0, 0.7, 0.0])\n",
    "v=np.array([0.0, 0.5, 1.0, 1.25, 1.5, 1.75, 2.0, 2.25, 2.5, 2.75, 3.0, 3.25, 3.5, 3.75, 4.0, 4.25, 4.5, 4.75, 5.0, 5.25, 5.5, 5.75, 6.0])\n",
    "w=np.array([0.0, 0.0, 0.0, 0.0, 0.0, 0.45, 0.6, 0.45, 0.0, 0.0, 0.0, 0.0, 0.0, 0.0, 0.0, 0.45, 0.6, 0.45, 0.0, 0.0, 0.0, 0.0, 0.0])\n",
    "\n",
    "from scipy.interpolate import CubicSpline, lagrange\n",
    "ptop=lagrange(x,y)\n",
    "pbot=lagrange(v,w)\n",
    "ctop=CubicSpline(x,y)\n",
    "cbot=CubicSpline(v,w)\n",
    "\n",
    "stip = np.linspace(0,6, 500)\n",
    "plt.plot(stip,ptop(stip), color=\"Red\")\n",
    "plt.plot(stip,pbot(stip), color=\"Orange\")\n",
    "plt.scatter(x,y, color=\"Black\")\n",
    "plt.scatter(v,w, color=\"Black\")\n",
    "plt.axis([-0.5,6.5,-0.5,3])\n",
    "plt.ylabel(\"Buggy height\")\n",
    "plt.title(\"Minimal degree polynomial interpolation\")\n",
    "plt.grid()\n",
    "plt.show()\n",
    "\n",
    "plt.plot(stip,ctop(stip), color=\"Red\")\n",
    "plt.plot(stip,cbot(stip), color=\"Orange\")\n",
    "plt.scatter(x,y, color=\"Black\")\n",
    "plt.scatter(v,w, color=\"Black\")\n",
    "plt.axis([-0.5,6.5,-0.5,3])\n",
    "plt.title(\"Cubic spline (not-a-knot) interpolation\")\n",
    "plt.ylabel(\"Buggy height\")\n",
    "plt.grid()\n",
    "plt.show()"
   ]
  },
  {
   "cell_type": "markdown",
   "metadata": {},
   "source": [
    "It is visually apparent that the Cubic spline interpolant is more accurate (there's even floating point arithmetic error for the Lagrange interpolant `pbot`). This is because, near the ends of the graph, the $\\prod_{i \\in S} (x-x_i)$ terms contribute wild oscillations to the Lagrange interpolating polynomial.\n",
    "\n",
    "## Error in numerical quadrature\n",
    "\n",
    "### Degree of precision for trapezoidal & Simpson's rule\n",
    "\n",
    "Consider $f \\in C^4[a,b]$. The composite trapezoidal rule for quadrature has error $e_T$ given by some multiple of $f^{(2)}(\\xi)$ for $\\xi \\in [a,b]$, and likewise, composite Simpson's rule has error $e_S$ equal to some multiple of $f^{(4)}(\\xi)$. For any polynomial $p_1$ of degree $1$, we have $p_1^{(2)} \\equiv 0$ and thus $e_T = 0$. Similarly, for $p_3$ of degree $3$ we have $p_3^{(4)} \\equiv 0$ and thus $e_S = 0$. So the trapezoidal rule has linear precision and Simpson's rule has cubic precision.\n",
    "\n",
    "### Finding panel size to bound error\n",
    "\n",
    "Let $f \\in C^\\omega$ with $f(x) = e^{-x}\\sin x$. Consider the restriction of $f$ to the domain $[0,2\\pi]$. For composite numerical quadrature:\n",
    "\n",
    "- $e_T(h) = \\frac{\\pi h^2}{6} \\max_{\\xi \\in [0,2\\pi]}\\left\\lvert -2e^{-\\xi}\\cos \\xi \\right\\rvert = \\frac{\\pi h^2}{6} \\sqrt{2}e^{-3\\pi/4}$.\n",
    "- $e_S(h) = \\frac{\\pi h^4}{90} \\max_{\\xi \\in [0,2\\pi]}\\left\\lvert -4e^{-\\xi}\\sin \\xi \\right\\rvert = \\frac{\\pi h^4}{90} 2\\sqrt{2}e^{-\\pi/4}$.\n",
    "\n",
    "To bound the error below $10^{-4}$, we take the greatest $h = \\frac{2\\pi}{n}$ (with $n \\in \\mathrm{N}$):\n",
    "\n",
    "- $n_T = \\text{ceil}\\left(2\\pi \\left(10^{-4} \\frac6\\pi \\left(\\sqrt{2}e^{-3\\pi/4}\\right)^{-1}\\right)^{1/2}\\right) = 167$.\n",
    "- $n_S = \\text{ceil}\\left(2\\pi \\left(10^{-4} \\frac{180}{\\pi} \\left(2\\sqrt{2}e^{-\\pi/4}\\right)^{-1}\\right)^{1/4}\\right) = 29$.\n",
    "\n",
    "With the number of panels $n$, the number of function evaluations required for numerical quadrature is $n+1$: so we'd need $168$ evaluations for the composite trapezoidal rule and $30$ for composite Simpson's.\n",
    "\n",
    "#### Aside\n",
    "\n",
    "Reaching this section in the assignment, I've decided to change my tone and writing style. The remainder of this assignment (and the next) will largely be written with a mind to *implementation*. I will attempt as often as possible to import packages from the copious body of code already written and optimized to quickly solve the specific problems raised in the homework.\n",
    "\n",
    "Before launching into it, I do want to acknowledge that *implementation* has it's place in three activities of scientific computing: *learning*, *implementing* and *gaining mastery*. \n",
    "\n",
    "From Mary L. Boas, *Mathematical Methods in the Physical Sciences*, 2008:\n",
    "\n",
    "> A very effective way to study a new technique is to do some simple problems by hand in order to understand the process, and compare results with a computer solution. \n",
    "\n",
    "From [“1.5. Scipy : high-level scientific computing — Scipy lecture notes”](http://www.scipy-lectures.org/intro/scipy.html). Retrieved July 30, 2018.\n",
    "\n",
    "> Before implementing a routine, it is worth checking if the desired data processing is not already implemented in Scipy. As non-professional programmers, scientists often tend to re-invent the wheel, which leads to buggy, non-optimal, difficult-to-share and unmaintainable code. \n",
    "\n",
    "\n",
    "From [“Skills - Ciro Santilli”](http://www.cirosantilli.com/skills/). Retrieved July 30, 2018.\n",
    "\n",
    "> I have to constantly stop myself from understanding every software I touch down to the assembly level. On weekends however, I make a concession to this rule. I have sworn not to go into the electronics level, but I want to break that promise some day.\n",
    "\n",
    "Pedagogically, it's not clear to me which activity comes first. Learning? Implementing? Certainly not gaining mastery? But even mastery is motivated by a desire to learn deeply, so starting with the goal of attaining mastery is not a bad idea.\n",
    "\n",
    "Regardless, I am now even more constrained for time and \"the code has to ship\".\n",
    "\n",
    "### Implementation\n",
    "\n",
    "Using the number of panels in the last part of the problem (matched to their respective methods) we approximate the integral numerically."
   ]
  },
  {
   "cell_type": "code",
   "execution_count": 7,
   "metadata": {
    "attributes": {
     "classes": [],
     "id": "",
     "n": "10"
    }
   },
   "outputs": [
    {
     "data": {
      "text/plain": [
       "0.49894854154999768"
      ]
     },
     "execution_count": 7,
     "metadata": {},
     "output_type": "execute_result"
    }
   ],
   "source": [
    "from scipy.integrate import trapz, simps\n",
    "f = lambda x: np.exp(-x)*np.sin(x)\n",
    "vecx = np.linspace(0, 2*np.pi, 168)\n",
    "# composite trapezoidal\n",
    "trapz(f(vecx), vecx)"
   ]
  },
  {
   "cell_type": "code",
   "execution_count": 8,
   "metadata": {
    "attributes": {
     "classes": [],
     "id": "",
     "n": "11"
    }
   },
   "outputs": [
    {
     "data": {
      "text/plain": [
       "0.49828410040783189"
      ]
     },
     "execution_count": 8,
     "metadata": {},
     "output_type": "execute_result"
    }
   ],
   "source": [
    "vecx = np.linspace(0, 2*np.pi, 30)\n",
    "# composite simpsons\n",
    "simps(f(vecx), vecx)"
   ]
  },
  {
   "cell_type": "code",
   "execution_count": 9,
   "metadata": {},
   "outputs": [
    {
     "data": {
      "text/plain": [
       "0.49906627863414599"
      ]
     },
     "execution_count": 9,
     "metadata": {},
     "output_type": "execute_result"
    }
   ],
   "source": [
    "# here's the antiderivative\n",
    "F = lambda x: -0.5*np.exp(-x)*(np.sin(x) + np.cos(x))\n",
    "# by the FTC I we have the exact value\n",
    "F(2*np.pi) - F(0)"
   ]
  },
  {
   "cell_type": "markdown",
   "metadata": {},
   "source": [
    "## Rate of convergence"
   ]
  },
  {
   "cell_type": "code",
   "execution_count": 11,
   "metadata": {},
   "outputs": [
    {
     "data": {
      "text/plain": [
       "array([  1.00000000e+000,   2.00000000e-001,   1.60000000e-003,\n",
       "         5.12000000e-007,   6.55360000e-012,   3.35544320e-018,\n",
       "         6.87194767e-026,   5.62949953e-035,   1.84467441e-045,\n",
       "         2.41785164e-057,   1.26765060e-070,   2.65845599e-085,\n",
       "         2.23007452e-101,   7.48288838e-119])"
      ]
     },
     "execution_count": 11,
     "metadata": {},
     "output_type": "execute_result"
    }
   ],
   "source": [
    "en = np.array([5**(-n**2) for n in range(14)])\n",
    "en"
   ]
  },
  {
   "cell_type": "code",
   "execution_count": 16,
   "metadata": {},
   "outputs": [
    {
     "data": {
      "text/plain": [
       "([<matplotlib.axis.XTick object at 0x7f2bbd2b3250>,\n",
       "  <matplotlib.axis.XTick object at 0x7f2bbd2b3b50>,\n",
       "  <matplotlib.axis.XTick object at 0x7f2bbb9944d0>,\n",
       "  <matplotlib.axis.XTick object at 0x7f2bbb976710>,\n",
       "  <matplotlib.axis.XTick object at 0x7f2bbb976a10>,\n",
       "  <matplotlib.axis.XTick object at 0x7f2bbb976f90>,\n",
       "  <matplotlib.axis.XTick object at 0x7f2bbfe718d0>,\n",
       "  <matplotlib.axis.XTick object at 0x7f2bbd2c84d0>,\n",
       "  <matplotlib.axis.XTick object at 0x7f2bbd2c8f10>,\n",
       "  <matplotlib.axis.XTick object at 0x7f2bbd2c8490>,\n",
       "  <matplotlib.axis.XTick object at 0x7f2bbf314290>,\n",
       "  <matplotlib.axis.XTick object at 0x7f2bbf314590>,\n",
       "  <matplotlib.axis.XTick object at 0x7f2bbf314090>,\n",
       "  <matplotlib.axis.XTick object at 0x7f2bbd2db5d0>],\n",
       " <a list of 14 Text xticklabel objects>)"
      ]
     },
     "execution_count": 16,
     "metadata": {},
     "output_type": "execute_result"
    },
    {
     "data": {
      "image/png": "[encoded data removed]",
      "text/plain": [
       "<matplotlib.figure.Figure object at 0x7f2bbb97fad0>"
      ]
     },
     "metadata": {},
     "output_type": "display_data"
    }
   ],
   "source": []
  },
  {
   "cell_type": "code",
   "execution_count": null,
   "metadata": {},
   "outputs": [],
   "source": []
  },
  {
   "cell_type": "code",
   "execution_count": null,
   "metadata": {},
   "outputs": [],
   "source": []
  }
 ],
 "metadata": {
  "kernelspec": {
   "display_name": "SageMath 8.2",
   "language": "",
   "name": "sagemath"
  },
  "language_info": {
   "codemirror_mode": {
    "name": "ipython",
    "version": 2
   },
   "file_extension": ".py",
   "mimetype": "text/x-python",
   "name": "python",
   "nbconvert_exporter": "python",
   "pygments_lexer": "ipython2",
   "version": "2.7.14"
  }
 },
 "nbformat": 4,
 "nbformat_minor": 2
}
